{
 "cells": [
  {
   "cell_type": "code",
   "execution_count": 17,
   "id": "9e685350",
   "metadata": {},
   "outputs": [
    {
     "name": "stdout",
     "output_type": "stream",
     "text": [
      "Enter a number: 3\n",
      "\n",
      "The Factorial of 3 is: 6\n"
     ]
    }
   ],
   "source": [
    "# Q.[1] : Write a Python Program to Find the Factorial of a Number?\n",
    "\n",
    "num = int(input(\"Enter a number: \"))\n",
    "factorial = 1\n",
    "\n",
    "if num < 0 :\n",
    "    print(\"Factorial does not exist for negative numbers\")\n",
    "elif num == 0:\n",
    "    print(\"Factorial of 0 is 1\")\n",
    "else:\n",
    "    for i in range(1,num+1):\n",
    "        factorial = factorial * i\n",
    "    print(f\"\\nThe Factorial of {num} is: {factorial}\")\n",
    "    "
   ]
  },
  {
   "cell_type": "code",
   "execution_count": 14,
   "id": "f3ac0993",
   "metadata": {},
   "outputs": [
    {
     "name": "stdout",
     "output_type": "stream",
     "text": [
      "\n",
      "10 x 1 = 10\n",
      "\n",
      "10 x 2 = 20\n",
      "\n",
      "10 x 3 = 30\n",
      "\n",
      "10 x 4 = 40\n",
      "\n",
      "10 x 5 = 50\n",
      "\n",
      "10 x 6 = 60\n",
      "\n",
      "10 x 7 = 70\n",
      "\n",
      "10 x 8 = 80\n",
      "\n",
      "10 x 9 = 90\n",
      "\n",
      "10 x 10 = 100\n"
     ]
    }
   ],
   "source": [
    "# Q.[2] : Write a Python Program to Display the multiplication Table?\n",
    "\n",
    "num = 10\n",
    "\n",
    "for i in range(1,10+1):\n",
    "    print(f\"\\n{num} x {i} = {num*i}\")"
   ]
  },
  {
   "cell_type": "code",
   "execution_count": 19,
   "id": "d06c1c57",
   "metadata": {},
   "outputs": [
    {
     "name": "stdout",
     "output_type": "stream",
     "text": [
      "Enter a number: 10\n",
      "\n",
      "The fibonacci sequence of the numbers is\n",
      "0\n",
      "1\n",
      "1\n",
      "2\n",
      "3\n",
      "5\n",
      "8\n",
      "13\n",
      "21\n",
      "34\n",
      "55\n"
     ]
    }
   ],
   "source": [
    "# Q.[3] : Write a Python Program to Print the Fibonacci sequence?\n",
    "\n",
    "n_terms = int(input(\"Enter a number: \"))\n",
    "n_1 = 0\n",
    "n_2 = 1\n",
    "count = 0\n",
    "\n",
    "if n_terms < 0:\n",
    "    print(\"Please enter a positive integer, the given number is not valid\")\n",
    "elif n_terms == 1:\n",
    "    print(f\"The Fibonacci sequence of the numbers up to {n_terms}\")\n",
    "else:\n",
    "    print(\"\\nThe fibonacci sequence of the numbers is\")\n",
    "    while count <= n_terms:\n",
    "        print(n_1)\n",
    "        nth = n_1 + n_2\n",
    "        n_1 = n_2\n",
    "        n_2 = nth\n",
    "        count = count + 1"
   ]
  },
  {
   "cell_type": "code",
   "execution_count": 13,
   "id": "c9880365",
   "metadata": {},
   "outputs": [
    {
     "name": "stdout",
     "output_type": "stream",
     "text": [
      "Enter a number: 371\n",
      "\n",
      "371 is an Armstrong Number\n"
     ]
    }
   ],
   "source": [
    "# Q.[4] : Write a Python Program to Check Armstrong Number?\n",
    "\n",
    "num = int(input(\"Enter a number: \"))\n",
    "sum = 0\n",
    "temp = num\n",
    "while temp > 0:\n",
    "    digit = temp % 10\n",
    "    sum = sum + digit ** 3\n",
    "    temp = temp // 10\n",
    "if num == sum:\n",
    "    print(f\"\\n{num} is an Armstrong Number\")\n",
    "else:\n",
    "    print(f\"\\n{num} is not an Armstrong Number\")"
   ]
  },
  {
   "cell_type": "code",
   "execution_count": 2,
   "id": "6e32465c",
   "metadata": {},
   "outputs": [
    {
     "name": "stdout",
     "output_type": "stream",
     "text": [
      "153\n",
      "370\n",
      "371\n",
      "407\n",
      "1634\n"
     ]
    }
   ],
   "source": [
    "# Q.[5] : Write a Python Program to Find Armstrong Number in an Interval?\n",
    "\n",
    "lower = 20 \n",
    "upper = 5000\n",
    "for num in range(lower,upper+1):\n",
    "    power = len(str(num))\n",
    "    sum = 0\n",
    "    temp = num\n",
    "    while temp > 0:\n",
    "        digit = temp % 10\n",
    "        sum = sum + digit ** power\n",
    "        temp = temp // 10\n",
    "    if num == sum:\n",
    "        print(num)\n",
    "        "
   ]
  },
  {
   "cell_type": "code",
   "execution_count": 12,
   "id": "6e498497",
   "metadata": {},
   "outputs": [
    {
     "name": "stdout",
     "output_type": "stream",
     "text": [
      "Enter a number: 24\n",
      "\n",
      "The sum of Natural Number is: 300\n"
     ]
    }
   ],
   "source": [
    "# Q.[6] : Write a Python Program to Find the Sum of Natural Numbers?\n",
    "\n",
    "num = int(input(\"Enter a number: \"))\n",
    "sum = 0\n",
    "\n",
    "for i in range(num+1):\n",
    "    sum = sum + i\n",
    "print(f\"\\nThe sum of Natural Number is: {sum}\")"
   ]
  },
  {
   "cell_type": "code",
   "execution_count": null,
   "id": "cc188a75",
   "metadata": {},
   "outputs": [],
   "source": []
  }
 ],
 "metadata": {
  "kernelspec": {
   "display_name": "Python 3 (ipykernel)",
   "language": "python",
   "name": "python3"
  },
  "language_info": {
   "codemirror_mode": {
    "name": "ipython",
    "version": 3
   },
   "file_extension": ".py",
   "mimetype": "text/x-python",
   "name": "python",
   "nbconvert_exporter": "python",
   "pygments_lexer": "ipython3",
   "version": "3.9.12"
  }
 },
 "nbformat": 4,
 "nbformat_minor": 5
}
